{
 "cells": [
  {
   "cell_type": "code",
   "execution_count": null,
   "metadata": {},
   "outputs": [],
   "source": [
    "import itertools as it\n",
    "from pyspark import SparkContext\n",
    "import sys"
   ]
  },
  {
   "cell_type": "code",
   "execution_count": null,
   "metadata": {},
   "outputs": [],
   "source": [
    "sc = SparkContext()"
   ]
  },
  {
   "cell_type": "code",
   "execution_count": null,
   "metadata": {},
   "outputs": [],
   "source": [
    "file = sc.textFile(\"../2.txt\")"
   ]
  },
  {
   "cell_type": "code",
   "execution_count": null,
   "metadata": {},
   "outputs": [],
   "source": [
    "def split_line(line):\n",
    "    user, friends = line.split('\\t')\n",
    "    return (user, friends.split(','))\n",
    "\n",
    "lines = file.map(lambda line: split_line(line))"
   ]
  },
  {
   "cell_type": "code",
   "execution_count": null,
   "metadata": {},
   "outputs": [],
   "source": [
    "def get_mutal_friends(lines):\n",
    "    friends = lines.flatMap(lambda line: [((line[0], friend), float('inf')) for friend in line[1]])\n",
    "    possible_friends = lines.flatMap(lambda line: [(pair, 1) for pair in it.permutations(line[1], 2)])\n",
    "\n",
    "    pairs = friends.union(possible_friends)\n",
    "    pairs = pairs.reduceByKey(lambda x, y: x + y) \\\n",
    "                 .filter(lambda val: val[1] != float('inf'))\n",
    "    return pairs\n",
    "\n",
    "pairs = get_mutal_friends(lines)"
   ]
  },
  {
   "cell_type": "code",
   "execution_count": null,
   "metadata": {},
   "outputs": [],
   "source": [
    "def transfor_loners(line):\n",
    "    return (int(line[0]),())\n",
    "\n",
    "loners = lines.map(transfor_loners)"
   ]
  },
  {
   "cell_type": "code",
   "execution_count": null,
   "metadata": {},
   "outputs": [],
   "source": [
    "def transform_pair(line):\n",
    "    return (int(line[0][0]), (int(line[0][1]), line[1]))\n",
    "\n",
    "def get_top_ten_recomendations(line):\n",
    "    return sorted(line, key = lambda x: (-x[1], x[0]))[:10]\n",
    "    \n",
    "result = pairs.map(transform_pair) \\\n",
    "              .groupByKey() \\\n",
    "              .union(loners) \\\n",
    "              .reduceByKey(lambda x,y: x) \\\n",
    "              .mapValues(get_top_ten_recomendations) \\\n",
    "              .sortByKey()"
   ]
  },
  {
   "cell_type": "code",
   "execution_count": null,
   "metadata": {},
   "outputs": [],
   "source": [
    "def parse_result(line):\n",
    "    user, recs = line[0], line[1]\n",
    "    rec_list = [str(rec[0]) for rec in recs]\n",
    "    return f'{user}\\t{\",\".join(rec_list)}'\n",
    "\n",
    "parsed_result = result.map(parse_result).collect()"
   ]
  },
  {
   "cell_type": "code",
   "execution_count": null,
   "metadata": {},
   "outputs": [],
   "source": [
    "with open('resulta.txt', 'w') as outfile:\n",
    "    outfile.write('\\n'.join(parsed_result))"
   ]
  },
  {
   "cell_type": "code",
   "execution_count": null,
   "metadata": {},
   "outputs": [],
   "source": [
    "sc.stop()"
   ]
  }
 ],
 "metadata": {
  "kernelspec": {
   "display_name": "Python 3",
   "language": "python",
   "name": "python3"
  },
  "language_info": {
   "codemirror_mode": {
    "name": "ipython",
    "version": 3
   },
   "file_extension": ".py",
   "mimetype": "text/x-python",
   "name": "python",
   "nbconvert_exporter": "python",
   "pygments_lexer": "ipython3",
   "version": "3.8.6"
  }
 },
 "nbformat": 4,
 "nbformat_minor": 4
}